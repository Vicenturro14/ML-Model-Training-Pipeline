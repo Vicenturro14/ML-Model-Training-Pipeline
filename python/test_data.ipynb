{
 "cells": [
  {
   "cell_type": "code",
   "execution_count": 1,
   "metadata": {},
   "outputs": [],
   "source": [
    "import joblib\n",
    "\n",
    "# Open the model\n",
    "clf = joblib.load('model/pretrained_model.pkl')\n",
    "vectorizer = joblib.load('model/vectorizer.pkl')"
   ]
  },
  {
   "cell_type": "code",
   "execution_count": 2,
   "metadata": {},
   "outputs": [
    {
     "name": "stderr",
     "output_type": "stream",
     "text": [
      "[nltk_data] Downloading package stopwords to\n",
      "[nltk_data]     C:\\Users\\lucas\\AppData\\Roaming\\nltk_data...\n",
      "[nltk_data]   Package stopwords is already up-to-date!\n"
     ]
    }
   ],
   "source": [
    "import nltk\n",
    "from nltk.corpus import stopwords\n",
    "\n",
    "# Remove the stopwords and special characters\n",
    "nltk.download('stopwords')\n",
    "stop_words = set(stopwords.words('english'))\n"
   ]
  },
  {
   "cell_type": "code",
   "execution_count": 3,
   "metadata": {},
   "outputs": [],
   "source": [
    "import re\n",
    "\n",
    "def clean_text(text):\n",
    "    text = text.lower()\n",
    "    text = re.sub(r'[^\\w\\s]', '', text)\n",
    "    text = ' '.join([word for word in text.split() if word not in stop_words])\n",
    "    return text"
   ]
  },
  {
   "cell_type": "code",
   "execution_count": 4,
   "metadata": {},
   "outputs": [],
   "source": [
    "# Tomamos el dataset y lo dividimos en dos partes, una para entrenar y otra para testear\n",
    "import pandas as pd\n",
    "from sklearn.model_selection import train_test_split\n",
    "\n",
    "df = pd.read_csv('data/arxiv_test_sample.csv')\n",
    "X = df['abstract']\n",
    "y = df['categories']"
   ]
  },
  {
   "cell_type": "code",
   "execution_count": 5,
   "metadata": {},
   "outputs": [],
   "source": [
    "# Para las categorias en y_test, si contiene la palabra 'cs' entonces es 1, de lo contrario es 0\n",
    "y_test = y.apply(lambda x: x.split()).tolist()\n",
    "categories_one_hot = [[1 if cat.startswith('cs.') else 0 for cat in cat_list] for cat_list in y_test]\n",
    "is_computer_science_paper = [1 if 1 in cat_list else 0 for cat_list in categories_one_hot]"
   ]
  },
  {
   "cell_type": "code",
   "execution_count": 6,
   "metadata": {},
   "outputs": [
    {
     "data": {
      "text/plain": [
       "0      rise mobile devices abundant sensory data loca...\n",
       "1      generative foundation models susceptible impli...\n",
       "2      simplest quantum composite body hydrogen atom ...\n",
       "3      basic concept twostate vector formalism time s...\n",
       "4      results longterm investigations variation coba...\n",
       "                             ...                        \n",
       "995    scalability single qubit operations multiqubit...\n",
       "996    weak convergence stochastic evolutionary syste...\n",
       "997    highlystrained bifeo3 exhibits tetragonallike ...\n",
       "998    deep generative models demonstrated problemati...\n",
       "999    order satisfy current fcnc cp violation bounds...\n",
       "Name: abstract, Length: 1000, dtype: object"
      ]
     },
     "execution_count": 6,
     "metadata": {},
     "output_type": "execute_result"
    }
   ],
   "source": [
    "# Limpiamos el texto\n",
    "X_test_clean = X.apply(clean_text)\n",
    "X_test_clean"
   ]
  },
  {
   "cell_type": "code",
   "execution_count": 7,
   "metadata": {},
   "outputs": [],
   "source": [
    "# Vectorizamos el texto\n",
    "X_test_vect = vectorizer.transform(X_test_clean)"
   ]
  },
  {
   "cell_type": "code",
   "execution_count": 8,
   "metadata": {},
   "outputs": [
    {
     "name": "stdout",
     "output_type": "stream",
     "text": [
      "Accuracy: 0.765\n"
     ]
    }
   ],
   "source": [
    "# Hacemos la predicción y calculamos el accuracy\n",
    "from sklearn.metrics import accuracy_score\n",
    "\n",
    "y_predicted = clf.predict(X_test_vect)\n",
    "accuracy = accuracy_score(is_computer_science_paper, y_predicted)\n",
    "\n",
    "print(f'Accuracy: {accuracy}')"
   ]
  },
  {
   "cell_type": "code",
   "execution_count": 9,
   "metadata": {},
   "outputs": [],
   "source": [
    "# Guardamos el dataset con el que hicimos la predicción\n",
    "df_pred = pd.DataFrame({'abstract': X_test_clean, 'is_computer_science_paper': y_predicted})\n",
    "df_pred.to_csv('data/test_data.csv', index=False)"
   ]
  },
  {
   "cell_type": "code",
   "execution_count": 10,
   "metadata": {},
   "outputs": [
    {
     "data": {
      "text/html": [
       "<div>\n",
       "<style scoped>\n",
       "    .dataframe tbody tr th:only-of-type {\n",
       "        vertical-align: middle;\n",
       "    }\n",
       "\n",
       "    .dataframe tbody tr th {\n",
       "        vertical-align: top;\n",
       "    }\n",
       "\n",
       "    .dataframe thead th {\n",
       "        text-align: right;\n",
       "    }\n",
       "</style>\n",
       "<table border=\"1\" class=\"dataframe\">\n",
       "  <thead>\n",
       "    <tr style=\"text-align: right;\">\n",
       "      <th></th>\n",
       "      <th>abstract</th>\n",
       "      <th>is_computer_science_paper</th>\n",
       "    </tr>\n",
       "  </thead>\n",
       "  <tbody>\n",
       "    <tr>\n",
       "      <th>0</th>\n",
       "      <td>rise mobile devices abundant sensory data loca...</td>\n",
       "      <td>0</td>\n",
       "    </tr>\n",
       "    <tr>\n",
       "      <th>1</th>\n",
       "      <td>generative foundation models susceptible impli...</td>\n",
       "      <td>0</td>\n",
       "    </tr>\n",
       "    <tr>\n",
       "      <th>2</th>\n",
       "      <td>simplest quantum composite body hydrogen atom ...</td>\n",
       "      <td>0</td>\n",
       "    </tr>\n",
       "    <tr>\n",
       "      <th>3</th>\n",
       "      <td>basic concept twostate vector formalism time s...</td>\n",
       "      <td>0</td>\n",
       "    </tr>\n",
       "    <tr>\n",
       "      <th>4</th>\n",
       "      <td>results longterm investigations variation coba...</td>\n",
       "      <td>0</td>\n",
       "    </tr>\n",
       "    <tr>\n",
       "      <th>...</th>\n",
       "      <td>...</td>\n",
       "      <td>...</td>\n",
       "    </tr>\n",
       "    <tr>\n",
       "      <th>995</th>\n",
       "      <td>scalability single qubit operations multiqubit...</td>\n",
       "      <td>1</td>\n",
       "    </tr>\n",
       "    <tr>\n",
       "      <th>996</th>\n",
       "      <td>weak convergence stochastic evolutionary syste...</td>\n",
       "      <td>0</td>\n",
       "    </tr>\n",
       "    <tr>\n",
       "      <th>997</th>\n",
       "      <td>highlystrained bifeo3 exhibits tetragonallike ...</td>\n",
       "      <td>0</td>\n",
       "    </tr>\n",
       "    <tr>\n",
       "      <th>998</th>\n",
       "      <td>deep generative models demonstrated problemati...</td>\n",
       "      <td>1</td>\n",
       "    </tr>\n",
       "    <tr>\n",
       "      <th>999</th>\n",
       "      <td>order satisfy current fcnc cp violation bounds...</td>\n",
       "      <td>0</td>\n",
       "    </tr>\n",
       "  </tbody>\n",
       "</table>\n",
       "<p>1000 rows × 2 columns</p>\n",
       "</div>"
      ],
      "text/plain": [
       "                                              abstract  \\\n",
       "0    rise mobile devices abundant sensory data loca...   \n",
       "1    generative foundation models susceptible impli...   \n",
       "2    simplest quantum composite body hydrogen atom ...   \n",
       "3    basic concept twostate vector formalism time s...   \n",
       "4    results longterm investigations variation coba...   \n",
       "..                                                 ...   \n",
       "995  scalability single qubit operations multiqubit...   \n",
       "996  weak convergence stochastic evolutionary syste...   \n",
       "997  highlystrained bifeo3 exhibits tetragonallike ...   \n",
       "998  deep generative models demonstrated problemati...   \n",
       "999  order satisfy current fcnc cp violation bounds...   \n",
       "\n",
       "     is_computer_science_paper  \n",
       "0                            0  \n",
       "1                            0  \n",
       "2                            0  \n",
       "3                            0  \n",
       "4                            0  \n",
       "..                         ...  \n",
       "995                          1  \n",
       "996                          0  \n",
       "997                          0  \n",
       "998                          1  \n",
       "999                          0  \n",
       "\n",
       "[1000 rows x 2 columns]"
      ]
     },
     "execution_count": 10,
     "metadata": {},
     "output_type": "execute_result"
    }
   ],
   "source": [
    "# Abrimos el dataset con el que hicimos la predicción\n",
    "df_pred = pd.read_csv('data/test_data.csv')\n",
    "df_pred"
   ]
  },
  {
   "cell_type": "code",
   "execution_count": null,
   "metadata": {},
   "outputs": [],
   "source": []
  }
 ],
 "metadata": {
  "kernelspec": {
   "display_name": "nb-env",
   "language": "python",
   "name": "python3"
  },
  "language_info": {
   "codemirror_mode": {
    "name": "ipython",
    "version": 3
   },
   "file_extension": ".py",
   "mimetype": "text/x-python",
   "name": "python",
   "nbconvert_exporter": "python",
   "pygments_lexer": "ipython3",
   "version": "3.12.1"
  }
 },
 "nbformat": 4,
 "nbformat_minor": 2
}
